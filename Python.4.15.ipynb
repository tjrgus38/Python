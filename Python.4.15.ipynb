{
 "cells": [
  {
   "cell_type": "code",
   "execution_count": 19,
   "id": "db37a3a8",
   "metadata": {},
   "outputs": [
    {
     "name": "stdout",
     "output_type": "stream",
     "text": [
      "한국의 수도는 어디입니까?뉴욕\n",
      "틀렸습니다. 다시 생각해보세요.\n"
     ]
    }
   ],
   "source": [
    "수도 = input('한국의 수도는 어디입니까?')\n",
    "\n",
    "if 수도 == '서울' :\n",
    "    print('정답입니다. 한국의 수도는 서울입니다.')\n",
    "else : \n",
    "    print('틀렸습니다. 다시 생각해보세요.')"
   ]
  },
  {
   "cell_type": "code",
   "execution_count": 16,
   "id": "8bd40206",
   "metadata": {},
   "outputs": [
    {
     "name": "stdout",
     "output_type": "stream",
     "text": [
      "-60 60 60 60\n",
      "잘못된 점수\n"
     ]
    }
   ],
   "source": [
    "a, b, c, d = map(int,input().split())\n",
    "x = (a + b + c + d)/4\n",
    "y = (0 <= a <= 100) and (0 <= b <= 100) and (0 <= c <= 100) and (0 <= d <= 100) \n",
    "\n",
    "if y == False:\n",
    "    print('잘못된 점수')\n",
    "\n",
    "\n",
    "else:\n",
    "    if (a + b + c + d) / 4 >= 80:\n",
    "        print('합격')\n",
    "\n",
    "    else:\n",
    "        print('불합격')\n"
   ]
  },
  {
   "cell_type": "markdown",
   "id": "2b611ab5",
   "metadata": {},
   "source": [
    "- if 연속으로 사용했을 때,"
   ]
  },
  {
   "cell_type": "code",
   "execution_count": 21,
   "id": "c194c4cb",
   "metadata": {},
   "outputs": [
    {
     "name": "stdout",
     "output_type": "stream",
     "text": [
      "나이 입력:7\n",
      "유아입니다.\n",
      "청소년입니다.\n"
     ]
    }
   ],
   "source": [
    "age = int(input('나이 입력:'))\n",
    "\n",
    "if age <= 7:\n",
    "    print('유아입니다.')\n",
    "if age <= 19:\n",
    "    print('청소년입니다.')\n",
    "if age >= 20:\n",
    "    print('성인입니다.') "
   ]
  },
  {
   "cell_type": "markdown",
   "id": "82fabc6f",
   "metadata": {},
   "source": [
    "- elif 앞에 else가 오면 안되는 이유!! : **if와 elif가 모두 거짓이어야  else가 실행**"
   ]
  },
  {
   "cell_type": "code",
   "execution_count": 29,
   "id": "e39c1069",
   "metadata": {},
   "outputs": [
    {
     "name": "stdout",
     "output_type": "stream",
     "text": [
      "12\n",
      "8350\n"
     ]
    }
   ],
   "source": [
    "age = int(input())\n",
    "balance = 9000\n",
    "\n",
    "if 7 <= age <= 12:\n",
    "    balance -= 650\n",
    "elif 13 <= age <= 18:\n",
    "    balance -= 1050\n",
    "elif 19 <= age <= 65:\n",
    "    balance -= 1250\n",
    "else:\n",
    "    print('무료탑승')\n",
    "\n",
    "print(balance)"
   ]
  },
  {
   "cell_type": "code",
   "execution_count": 31,
   "id": "6758f6c4",
   "metadata": {},
   "outputs": [
    {
     "name": "stdout",
     "output_type": "stream",
     "text": [
      "80 80 80 80\n",
      "합격\n"
     ]
    }
   ],
   "source": [
    "a, b, c, d = map(int, input().split())\n",
    "x = (a + b + c + d)/4\n",
    "y = (0 <= a <= 100) and (0 <= b <= 100) and (0 <= c <= 100) and (0 <= d <= 100)\n",
    "\n",
    "if y == False:\n",
    "    print('잘못된 점수')\n",
    "else:\n",
    "    if x >= 80:\n",
    "        print('합격')\n",
    "    else:\n",
    "        print('불합격')"
   ]
  },
  {
   "cell_type": "code",
   "execution_count": null,
   "id": "97b8b915",
   "metadata": {},
   "outputs": [],
   "source": [
    "a = int(input())\n",
    "b = int(input())\n",
    "c = int(input())\n",
    "d = int(input())\n",
    "if (0 <= a <= 100) and (0 <= b <= 100) and (0 <= c <= 100) and (0 <= d <= 100)\n",
    "    e = (a+b+c+d)"
   ]
  }
 ],
 "metadata": {
  "kernelspec": {
   "display_name": "Python 3 (ipykernel)",
   "language": "python",
   "name": "python3"
  },
  "language_info": {
   "codemirror_mode": {
    "name": "ipython",
    "version": 3
   },
   "file_extension": ".py",
   "mimetype": "text/x-python",
   "name": "python",
   "nbconvert_exporter": "python",
   "pygments_lexer": "ipython3",
   "version": "3.9.7"
  }
 },
 "nbformat": 4,
 "nbformat_minor": 5
}
